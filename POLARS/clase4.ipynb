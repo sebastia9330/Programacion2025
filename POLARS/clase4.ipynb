{
 "cells": [
  {
   "cell_type": "code",
   "execution_count": 14,
   "id": "57fbbcd4",
   "metadata": {},
   "outputs": [],
   "source": [
    "import polars as pl"
   ]
  },
  {
   "cell_type": "code",
   "execution_count": 15,
   "id": "eba016f4",
   "metadata": {},
   "outputs": [],
   "source": [
    "lz_mov = pl.scan_csv(\"movimientos.csv\")\n",
    "lz_reg = pl.scan_csv(\"reglas.csv\")"
   ]
  },
  {
   "cell_type": "markdown",
   "id": "2972fb4b",
   "metadata": {},
   "source": [
    "3️⃣ Tipos de Joins en Polars\n",
    "\n",
    "Tipo\tDescripción\n",
    "- inner\t Devuelve solo las coincidencias en ambas tablas\n",
    "- left\tDevuelve todas las filas de la izquierda y las coincidencias de la derecha\n",
    "- right\tDevuelve todas las filas de la derecha y las coincidencias de la izquierda\n",
    "- outer\tDevuelve todas las filas de ambas tablas (combinación total)\n",
    "- semi\tDevuelve filas de la izquierda que tienen coincidencia\n",
    "- anti\tDevuelve filas de la izquierda que no tienen coincidencia"
   ]
  },
  {
   "cell_type": "markdown",
   "id": "216160c1",
   "metadata": {},
   "source": [
    "4️⃣ Join básico (inner)"
   ]
  },
  {
   "cell_type": "code",
   "execution_count": 16,
   "id": "0d22b6bc",
   "metadata": {},
   "outputs": [
    {
     "data": {
      "text/html": [
       "<div><style>\n",
       ".dataframe > thead > tr,\n",
       ".dataframe > tbody > tr {\n",
       "  text-align: right;\n",
       "  white-space: pre-wrap;\n",
       "}\n",
       "</style>\n",
       "<small>shape: (5, 8)</small><table border=\"1\" class=\"dataframe\"><thead><tr><th>NUM_ID_CIA</th><th>STR_CUENTA</th><th>STR_CENTRO_COSTO</th><th>VALOR</th><th>CIUDAD</th><th>NUM_ID_CIA_right</th><th>DESCRIPCION</th><th>GRUPO</th></tr><tr><td>i64</td><td>i64</td><td>str</td><td>i64</td><td>str</td><td>i64</td><td>str</td><td>str</td></tr></thead><tbody><tr><td>1</td><td>510505</td><td>&quot;CC001&quot;</td><td>250000</td><td>&quot;CALI&quot;</td><td>1</td><td>&quot;Ingresos por ventas&quot;</td><td>&quot;INGRESOS&quot;</td></tr><tr><td>2</td><td>410101</td><td>&quot;CC003&quot;</td><td>320000</td><td>&quot;BOGOTÁ&quot;</td><td>1</td><td>&quot;Costos operativos&quot;</td><td>&quot;COSTOS&quot;</td></tr><tr><td>1</td><td>510507</td><td>&quot;CC005&quot;</td><td>500000</td><td>&quot;CALI&quot;</td><td>1</td><td>&quot;Ingresos especiales&quot;</td><td>&quot;INGRESOS&quot;</td></tr><tr><td>1</td><td>510505</td><td>&quot;CC001&quot;</td><td>250000</td><td>&quot;CALI&quot;</td><td>2</td><td>&quot;Ingresos por ventas&quot;</td><td>&quot;INGRESOS&quot;</td></tr><tr><td>2</td><td>410101</td><td>&quot;CC003&quot;</td><td>320000</td><td>&quot;BOGOTÁ&quot;</td><td>2</td><td>&quot;Costos operativos&quot;</td><td>&quot;COSTOS&quot;</td></tr></tbody></table></div>"
      ],
      "text/plain": [
       "shape: (5, 8)\n",
       "┌────────────┬────────────┬──────────────┬────────┬────────┬──────────────┬─────────────┬──────────┐\n",
       "│ NUM_ID_CIA ┆ STR_CUENTA ┆ STR_CENTRO_C ┆ VALOR  ┆ CIUDAD ┆ NUM_ID_CIA_r ┆ DESCRIPCION ┆ GRUPO    │\n",
       "│ ---        ┆ ---        ┆ OSTO         ┆ ---    ┆ ---    ┆ ight         ┆ ---         ┆ ---      │\n",
       "│ i64        ┆ i64        ┆ ---          ┆ i64    ┆ str    ┆ ---          ┆ str         ┆ str      │\n",
       "│            ┆            ┆ str          ┆        ┆        ┆ i64          ┆             ┆          │\n",
       "╞════════════╪════════════╪══════════════╪════════╪════════╪══════════════╪═════════════╪══════════╡\n",
       "│ 1          ┆ 510505     ┆ CC001        ┆ 250000 ┆ CALI   ┆ 1            ┆ Ingresos    ┆ INGRESOS │\n",
       "│            ┆            ┆              ┆        ┆        ┆              ┆ por ventas  ┆          │\n",
       "│ 2          ┆ 410101     ┆ CC003        ┆ 320000 ┆ BOGOTÁ ┆ 1            ┆ Costos      ┆ COSTOS   │\n",
       "│            ┆            ┆              ┆        ┆        ┆              ┆ operativos  ┆          │\n",
       "│ 1          ┆ 510507     ┆ CC005        ┆ 500000 ┆ CALI   ┆ 1            ┆ Ingresos    ┆ INGRESOS │\n",
       "│            ┆            ┆              ┆        ┆        ┆              ┆ especiales  ┆          │\n",
       "│ 1          ┆ 510505     ┆ CC001        ┆ 250000 ┆ CALI   ┆ 2            ┆ Ingresos    ┆ INGRESOS │\n",
       "│            ┆            ┆              ┆        ┆        ┆              ┆ por ventas  ┆          │\n",
       "│ 2          ┆ 410101     ┆ CC003        ┆ 320000 ┆ BOGOTÁ ┆ 2            ┆ Costos      ┆ COSTOS   │\n",
       "│            ┆            ┆              ┆        ┆        ┆              ┆ operativos  ┆          │\n",
       "└────────────┴────────────┴──────────────┴────────┴────────┴──────────────┴─────────────┴──────────┘"
      ]
     },
     "execution_count": 16,
     "metadata": {},
     "output_type": "execute_result"
    }
   ],
   "source": [
    "lz_join = lz_mov.join(\n",
    "    lz_reg,\n",
    "    on=\"STR_CUENTA\",\n",
    "    how=\"inner\"\n",
    ")\n",
    "lz_join.collect().head()"
   ]
  },
  {
   "cell_type": "markdown",
   "id": "01e09172",
   "metadata": {},
   "source": [
    "5️⃣ Join que conserva todos los movimientos (left)"
   ]
  },
  {
   "cell_type": "code",
   "execution_count": 17,
   "metadata": {},
   "outputs": [
    {
     "data": {
      "text/html": [
       "<div><style>\n",
       ".dataframe > thead > tr,\n",
       ".dataframe > tbody > tr {\n",
       "  text-align: right;\n",
       "  white-space: pre-wrap;\n",
       "}\n",
       "</style>\n",
       "<small>shape: (5, 8)</small><table border=\"1\" class=\"dataframe\"><thead><tr><th>NUM_ID_CIA</th><th>STR_CUENTA</th><th>STR_CENTRO_COSTO</th><th>VALOR</th><th>CIUDAD</th><th>NUM_ID_CIA_right</th><th>DESCRIPCION</th><th>GRUPO</th></tr><tr><td>i64</td><td>i64</td><td>str</td><td>i64</td><td>str</td><td>i64</td><td>str</td><td>str</td></tr></thead><tbody><tr><td>1</td><td>510505</td><td>&quot;CC001&quot;</td><td>250000</td><td>&quot;CALI&quot;</td><td>1</td><td>&quot;Ingresos por ventas&quot;</td><td>&quot;INGRESOS&quot;</td></tr><tr><td>1</td><td>510505</td><td>&quot;CC001&quot;</td><td>250000</td><td>&quot;CALI&quot;</td><td>2</td><td>&quot;Ingresos por ventas&quot;</td><td>&quot;INGRESOS&quot;</td></tr><tr><td>1</td><td>510506</td><td>&quot;CC002&quot;</td><td>180000</td><td>&quot;MEDELLÍN&quot;</td><td>null</td><td>null</td><td>null</td></tr><tr><td>2</td><td>410101</td><td>&quot;CC003&quot;</td><td>320000</td><td>&quot;BOGOTÁ&quot;</td><td>1</td><td>&quot;Costos operativos&quot;</td><td>&quot;COSTOS&quot;</td></tr><tr><td>2</td><td>410101</td><td>&quot;CC003&quot;</td><td>320000</td><td>&quot;BOGOTÁ&quot;</td><td>2</td><td>&quot;Costos operativos&quot;</td><td>&quot;COSTOS&quot;</td></tr></tbody></table></div>"
      ],
      "text/plain": [
       "shape: (5, 8)\n",
       "┌────────────┬────────────┬─────────────┬────────┬──────────┬─────────────┬─────────────┬──────────┐\n",
       "│ NUM_ID_CIA ┆ STR_CUENTA ┆ STR_CENTRO_ ┆ VALOR  ┆ CIUDAD   ┆ NUM_ID_CIA_ ┆ DESCRIPCION ┆ GRUPO    │\n",
       "│ ---        ┆ ---        ┆ COSTO       ┆ ---    ┆ ---      ┆ right       ┆ ---         ┆ ---      │\n",
       "│ i64        ┆ i64        ┆ ---         ┆ i64    ┆ str      ┆ ---         ┆ str         ┆ str      │\n",
       "│            ┆            ┆ str         ┆        ┆          ┆ i64         ┆             ┆          │\n",
       "╞════════════╪════════════╪═════════════╪════════╪══════════╪═════════════╪═════════════╪══════════╡\n",
       "│ 1          ┆ 510505     ┆ CC001       ┆ 250000 ┆ CALI     ┆ 1           ┆ Ingresos    ┆ INGRESOS │\n",
       "│            ┆            ┆             ┆        ┆          ┆             ┆ por ventas  ┆          │\n",
       "│ 1          ┆ 510505     ┆ CC001       ┆ 250000 ┆ CALI     ┆ 2           ┆ Ingresos    ┆ INGRESOS │\n",
       "│            ┆            ┆             ┆        ┆          ┆             ┆ por ventas  ┆          │\n",
       "│ 1          ┆ 510506     ┆ CC002       ┆ 180000 ┆ MEDELLÍN ┆ null        ┆ null        ┆ null     │\n",
       "│ 2          ┆ 410101     ┆ CC003       ┆ 320000 ┆ BOGOTÁ   ┆ 1           ┆ Costos      ┆ COSTOS   │\n",
       "│            ┆            ┆             ┆        ┆          ┆             ┆ operativos  ┆          │\n",
       "│ 2          ┆ 410101     ┆ CC003       ┆ 320000 ┆ BOGOTÁ   ┆ 2           ┆ Costos      ┆ COSTOS   │\n",
       "│            ┆            ┆             ┆        ┆          ┆             ┆ operativos  ┆          │\n",
       "└────────────┴────────────┴─────────────┴────────┴──────────┴─────────────┴─────────────┴──────────┘"
      ]
     },
     "execution_count": 17,
     "metadata": {},
     "output_type": "execute_result"
    }
   ],
   "source": [
    "lz_left = lz_mov.join(\n",
    "    lz_reg,\n",
    "    on=\"STR_CUENTA\",\n",
    "    how=\"left\"\n",
    ")\n",
    "lz_left.collect().head()"
   ]
  },
  {
   "cell_type": "markdown",
   "id": "517398db",
   "metadata": {},
   "source": [
    "6️⃣ Join con múltiples columnas"
   ]
  },
  {
   "cell_type": "code",
   "execution_count": 18,
   "id": "c4e4a81c",
   "metadata": {},
   "outputs": [
    {
     "data": {
      "text/html": [
       "<div><style>\n",
       ".dataframe > thead > tr,\n",
       ".dataframe > tbody > tr {\n",
       "  text-align: right;\n",
       "  white-space: pre-wrap;\n",
       "}\n",
       "</style>\n",
       "<small>shape: (3, 7)</small><table border=\"1\" class=\"dataframe\"><thead><tr><th>NUM_ID_CIA</th><th>STR_CUENTA</th><th>STR_CENTRO_COSTO</th><th>VALOR</th><th>CIUDAD</th><th>DESCRIPCION</th><th>GRUPO</th></tr><tr><td>i64</td><td>i64</td><td>str</td><td>i64</td><td>str</td><td>str</td><td>str</td></tr></thead><tbody><tr><td>1</td><td>510505</td><td>&quot;CC001&quot;</td><td>250000</td><td>&quot;CALI&quot;</td><td>&quot;Ingresos por ventas&quot;</td><td>&quot;INGRESOS&quot;</td></tr><tr><td>1</td><td>510507</td><td>&quot;CC005&quot;</td><td>500000</td><td>&quot;CALI&quot;</td><td>&quot;Ingresos especiales&quot;</td><td>&quot;INGRESOS&quot;</td></tr><tr><td>2</td><td>410101</td><td>&quot;CC003&quot;</td><td>320000</td><td>&quot;BOGOTÁ&quot;</td><td>&quot;Costos operativos&quot;</td><td>&quot;COSTOS&quot;</td></tr></tbody></table></div>"
      ],
      "text/plain": [
       "shape: (3, 7)\n",
       "┌────────────┬────────────┬──────────────────┬────────┬────────┬─────────────────────┬──────────┐\n",
       "│ NUM_ID_CIA ┆ STR_CUENTA ┆ STR_CENTRO_COSTO ┆ VALOR  ┆ CIUDAD ┆ DESCRIPCION         ┆ GRUPO    │\n",
       "│ ---        ┆ ---        ┆ ---              ┆ ---    ┆ ---    ┆ ---                 ┆ ---      │\n",
       "│ i64        ┆ i64        ┆ str              ┆ i64    ┆ str    ┆ str                 ┆ str      │\n",
       "╞════════════╪════════════╪══════════════════╪════════╪════════╪═════════════════════╪══════════╡\n",
       "│ 1          ┆ 510505     ┆ CC001            ┆ 250000 ┆ CALI   ┆ Ingresos por ventas ┆ INGRESOS │\n",
       "│ 1          ┆ 510507     ┆ CC005            ┆ 500000 ┆ CALI   ┆ Ingresos especiales ┆ INGRESOS │\n",
       "│ 2          ┆ 410101     ┆ CC003            ┆ 320000 ┆ BOGOTÁ ┆ Costos operativos   ┆ COSTOS   │\n",
       "└────────────┴────────────┴──────────────────┴────────┴────────┴─────────────────────┴──────────┘"
      ]
     },
     "execution_count": 18,
     "metadata": {},
     "output_type": "execute_result"
    }
   ],
   "source": [
    "lz_multi = lz_mov.join(\n",
    "    lz_reg,\n",
    "    on=[\"STR_CUENTA\", \"NUM_ID_CIA\"],\n",
    "    how=\"inner\"\n",
    ")\n",
    "lz_multi.collect().head()"
   ]
  },
  {
   "cell_type": "markdown",
   "id": "78393e57",
   "metadata": {},
   "source": [
    "7️⃣ Join + filtrado + columnas nuevas (flujo completo)"
   ]
  },
  {
   "cell_type": "code",
   "execution_count": 19,
   "id": "58df0c65",
   "metadata": {},
   "outputs": [
    {
     "name": "stdout",
     "output_type": "stream",
     "text": [
      "shape: (5, 9)\n",
      "┌────────────┬────────────┬────────────┬────────┬───┬───────────┬───────────┬──────────┬───────────┐\n",
      "│ NUM_ID_CIA ┆ STR_CUENTA ┆ STR_CENTRO ┆ VALOR  ┆ … ┆ NUM_ID_CI ┆ DESCRIPCI ┆ GRUPO    ┆ VALOR_EN_ │\n",
      "│ ---        ┆ ---        ┆ _COSTO     ┆ ---    ┆   ┆ A_right   ┆ ON        ┆ ---      ┆ MILES     │\n",
      "│ i64        ┆ i64        ┆ ---        ┆ i64    ┆   ┆ ---       ┆ ---       ┆ str      ┆ ---       │\n",
      "│            ┆            ┆ str        ┆        ┆   ┆ i64       ┆ str       ┆          ┆ f64       │\n",
      "╞════════════╪════════════╪════════════╪════════╪═══╪═══════════╪═══════════╪══════════╪═══════════╡\n",
      "│ 1          ┆ 510507     ┆ CC005      ┆ 500000 ┆ … ┆ 1         ┆ Ingresos  ┆ INGRESOS ┆ 500.0     │\n",
      "│            ┆            ┆            ┆        ┆   ┆           ┆ especiale ┆          ┆           │\n",
      "│            ┆            ┆            ┆        ┆   ┆           ┆ s         ┆          ┆           │\n",
      "│ 1          ┆ 510507     ┆ CC005      ┆ 500000 ┆ … ┆ 2         ┆ Ingresos  ┆ INGRESOS ┆ 500.0     │\n",
      "│            ┆            ┆            ┆        ┆   ┆           ┆ especiale ┆          ┆           │\n",
      "│            ┆            ┆            ┆        ┆   ┆           ┆ s         ┆          ┆           │\n",
      "│ 1          ┆ 510505     ┆ CC001      ┆ 250000 ┆ … ┆ 1         ┆ Ingresos  ┆ INGRESOS ┆ 250.0     │\n",
      "│            ┆            ┆            ┆        ┆   ┆           ┆ por       ┆          ┆           │\n",
      "│            ┆            ┆            ┆        ┆   ┆           ┆ ventas    ┆          ┆           │\n",
      "│ 1          ┆ 510505     ┆ CC001      ┆ 250000 ┆ … ┆ 2         ┆ Ingresos  ┆ INGRESOS ┆ 250.0     │\n",
      "│            ┆            ┆            ┆        ┆   ┆           ┆ por       ┆          ┆           │\n",
      "│            ┆            ┆            ┆        ┆   ┆           ┆ ventas    ┆          ┆           │\n",
      "│ 2          ┆ 410102     ┆ CC004      ┆ 150000 ┆ … ┆ null      ┆ null      ┆ null     ┆ 150.0     │\n",
      "└────────────┴────────────┴────────────┴────────┴───┴───────────┴───────────┴──────────┴───────────┘\n"
     ]
    }
   ],
   "source": [
    "resultado = (\n",
    "    lz_mov.join(\n",
    "        lz_reg,\n",
    "        on=\"STR_CUENTA\",\n",
    "        how=\"left\"\n",
    "    ).filter(\n",
    "        pl.col(\"CIUDAD\") == \"CALI\"\n",
    "    ).with_columns([\n",
    "        (pl.col(\"VALOR\") / 1000).alias(\"VALOR_EN_MILES\")\n",
    "    ]).sort(\n",
    "        \"VALOR\", descending=True\n",
    "    ).collect()\n",
    ")\n",
    "\n",
    "print(resultado)"
   ]
  },
  {
   "cell_type": "code",
   "execution_count": null,
   "id": "f498eb16",
   "metadata": {},
   "outputs": [],
   "source": []
  }
 ],
 "metadata": {
  "kernelspec": {
   "display_name": "base",
   "language": "python",
   "name": "python3"
  },
  "language_info": {
   "codemirror_mode": {
    "name": "ipython",
    "version": 3
   },
   "file_extension": ".py",
   "mimetype": "text/x-python",
   "name": "python",
   "nbconvert_exporter": "python",
   "pygments_lexer": "ipython3",
   "version": "3.12.7"
  }
 },
 "nbformat": 4,
 "nbformat_minor": 5
}
