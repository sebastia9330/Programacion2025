{
 "cells": [
  {
   "cell_type": "code",
   "execution_count": 1,
   "id": "f7da1d7a",
   "metadata": {},
   "outputs": [],
   "source": [
    "import polars as pl"
   ]
  },
  {
   "cell_type": "code",
   "execution_count": 2,
   "id": "ecd16c8b",
   "metadata": {},
   "outputs": [],
   "source": [
    "lz_mov = pl.scan_csv(\"movimientos.csv\")"
   ]
  },
  {
   "cell_type": "code",
   "execution_count": 3,
   "id": "d507a995",
   "metadata": {},
   "outputs": [],
   "source": [
    "lz_reg = pl.scan_csv(\"reglas.csv\")"
   ]
  },
  {
   "cell_type": "code",
   "execution_count": 5,
   "id": "e7c9ea9f",
   "metadata": {},
   "outputs": [
    {
     "data": {
      "text/html": [
       "<div><style>\n",
       ".dataframe > thead > tr,\n",
       ".dataframe > tbody > tr {\n",
       "  text-align: right;\n",
       "  white-space: pre-wrap;\n",
       "}\n",
       "</style>\n",
       "<small>shape: (2, 9)</small><table border=\"1\" class=\"dataframe\"><thead><tr><th>NUM_ID_CIA</th><th>STR_CUENTA</th><th>STR_CENTRO_COSTO</th><th>VALOR</th><th>CIUDAD</th><th>NUM_ID_CIA_right</th><th>TIPO_REGLA</th><th>GRUPO</th><th>TIPO_MATCH</th></tr><tr><td>i64</td><td>i64</td><td>str</td><td>i64</td><td>str</td><td>i64</td><td>str</td><td>str</td><td>str</td></tr></thead><tbody><tr><td>1</td><td>510505</td><td>&quot;CC001&quot;</td><td>250000</td><td>&quot;CALI&quot;</td><td>1</td><td>&quot;INCLUIR_EXACTO&quot;</td><td>&quot;INGRESOS&quot;</td><td>&quot;INCLUIR_EXACTO&quot;</td></tr><tr><td>1</td><td>510505</td><td>&quot;CC001&quot;</td><td>250000</td><td>&quot;CALI&quot;</td><td>2</td><td>&quot;INCLUIR_EXACTO&quot;</td><td>&quot;INGRESOS&quot;</td><td>&quot;INCLUIR_EXACTO&quot;</td></tr></tbody></table></div>"
      ],
      "text/plain": [
       "shape: (2, 9)\n",
       "┌────────────┬────────────┬────────────┬────────┬───┬───────────┬───────────┬──────────┬───────────┐\n",
       "│ NUM_ID_CIA ┆ STR_CUENTA ┆ STR_CENTRO ┆ VALOR  ┆ … ┆ NUM_ID_CI ┆ TIPO_REGL ┆ GRUPO    ┆ TIPO_MATC │\n",
       "│ ---        ┆ ---        ┆ _COSTO     ┆ ---    ┆   ┆ A_right   ┆ A         ┆ ---      ┆ H         │\n",
       "│ i64        ┆ i64        ┆ ---        ┆ i64    ┆   ┆ ---       ┆ ---       ┆ str      ┆ ---       │\n",
       "│            ┆            ┆ str        ┆        ┆   ┆ i64       ┆ str       ┆          ┆ str       │\n",
       "╞════════════╪════════════╪════════════╪════════╪═══╪═══════════╪═══════════╪══════════╪═══════════╡\n",
       "│ 1          ┆ 510505     ┆ CC001      ┆ 250000 ┆ … ┆ 1         ┆ INCLUIR_E ┆ INGRESOS ┆ INCLUIR_E │\n",
       "│            ┆            ┆            ┆        ┆   ┆           ┆ XACTO     ┆          ┆ XACTO     │\n",
       "│ 1          ┆ 510505     ┆ CC001      ┆ 250000 ┆ … ┆ 2         ┆ INCLUIR_E ┆ INGRESOS ┆ INCLUIR_E │\n",
       "│            ┆            ┆            ┆        ┆   ┆           ┆ XACTO     ┆          ┆ XACTO     │\n",
       "└────────────┴────────────┴────────────┴────────┴───┴───────────┴───────────┴──────────┴───────────┘"
      ]
     },
     "execution_count": 5,
     "metadata": {},
     "output_type": "execute_result"
    }
   ],
   "source": [
    "lz_exact_incluir = (\n",
    "    lz_mov.join(\n",
    "        lz_reg.filter(pl.col(\"TIPO_REGLA\") == \"INCLUIR_EXACTO\"),\n",
    "        left_on=\"STR_CUENTA\",\n",
    "        right_on=\"CRITERIO\",\n",
    "        how=\"inner\"\n",
    "    )\n",
    "    .with_columns(pl.lit(\"INCLUIR_EXACTO\").alias(\"TIPO_MATCH\"))\n",
    ")\n",
    "\n",
    "lz_exact_incluir.collect().head()"
   ]
  },
  {
   "cell_type": "code",
   "execution_count": 6,
   "id": "427dc674",
   "metadata": {},
   "outputs": [
    {
     "data": {
      "text/html": [
       "<div><style>\n",
       ".dataframe > thead > tr,\n",
       ".dataframe > tbody > tr {\n",
       "  text-align: right;\n",
       "  white-space: pre-wrap;\n",
       "}\n",
       "</style>\n",
       "<small>shape: (2, 9)</small><table border=\"1\" class=\"dataframe\"><thead><tr><th>NUM_ID_CIA</th><th>STR_CUENTA</th><th>STR_CENTRO_COSTO</th><th>VALOR</th><th>CIUDAD</th><th>NUM_ID_CIA_right</th><th>TIPO_REGLA</th><th>GRUPO</th><th>TIPO_MATCH</th></tr><tr><td>i64</td><td>i64</td><td>str</td><td>i64</td><td>str</td><td>i64</td><td>str</td><td>str</td><td>str</td></tr></thead><tbody><tr><td>2</td><td>410101</td><td>&quot;CC003&quot;</td><td>320000</td><td>&quot;BOGOTÁ&quot;</td><td>1</td><td>&quot;EXCLUIR_EXACTO&quot;</td><td>&quot;COSTOS&quot;</td><td>&quot;EXCLUIR_EXACTO&quot;</td></tr><tr><td>2</td><td>410101</td><td>&quot;CC003&quot;</td><td>320000</td><td>&quot;BOGOTÁ&quot;</td><td>2</td><td>&quot;EXCLUIR_EXACTO&quot;</td><td>&quot;COSTOS&quot;</td><td>&quot;EXCLUIR_EXACTO&quot;</td></tr></tbody></table></div>"
      ],
      "text/plain": [
       "shape: (2, 9)\n",
       "┌────────────┬────────────┬────────────┬────────┬───┬────────────┬────────────┬────────┬───────────┐\n",
       "│ NUM_ID_CIA ┆ STR_CUENTA ┆ STR_CENTRO ┆ VALOR  ┆ … ┆ NUM_ID_CIA ┆ TIPO_REGLA ┆ GRUPO  ┆ TIPO_MATC │\n",
       "│ ---        ┆ ---        ┆ _COSTO     ┆ ---    ┆   ┆ _right     ┆ ---        ┆ ---    ┆ H         │\n",
       "│ i64        ┆ i64        ┆ ---        ┆ i64    ┆   ┆ ---        ┆ str        ┆ str    ┆ ---       │\n",
       "│            ┆            ┆ str        ┆        ┆   ┆ i64        ┆            ┆        ┆ str       │\n",
       "╞════════════╪════════════╪════════════╪════════╪═══╪════════════╪════════════╪════════╪═══════════╡\n",
       "│ 2          ┆ 410101     ┆ CC003      ┆ 320000 ┆ … ┆ 1          ┆ EXCLUIR_EX ┆ COSTOS ┆ EXCLUIR_E │\n",
       "│            ┆            ┆            ┆        ┆   ┆            ┆ ACTO       ┆        ┆ XACTO     │\n",
       "│ 2          ┆ 410101     ┆ CC003      ┆ 320000 ┆ … ┆ 2          ┆ EXCLUIR_EX ┆ COSTOS ┆ EXCLUIR_E │\n",
       "│            ┆            ┆            ┆        ┆   ┆            ┆ ACTO       ┆        ┆ XACTO     │\n",
       "└────────────┴────────────┴────────────┴────────┴───┴────────────┴────────────┴────────┴───────────┘"
      ]
     },
     "execution_count": 6,
     "metadata": {},
     "output_type": "execute_result"
    }
   ],
   "source": [
    "lz_exact_excluir = (\n",
    "    lz_mov.join(\n",
    "        lz_reg.filter(pl.col(\"TIPO_REGLA\") == \"EXCLUIR_EXACTO\"),\n",
    "        left_on=\"STR_CUENTA\",\n",
    "        right_on=\"CRITERIO\",\n",
    "        how=\"inner\"\n",
    "    )\n",
    "    .with_columns(pl.lit(\"EXCLUIR_EXACTO\").alias(\"TIPO_MATCH\"))\n",
    ")\n",
    "\n",
    "lz_exact_excluir.collect().head()"
   ]
  },
  {
   "cell_type": "code",
   "execution_count": 2,
   "id": "eaf477ce",
   "metadata": {},
   "outputs": [
    {
     "name": "stdout",
     "output_type": "stream",
     "text": [
      "Error en la petición: 401 {\"cod\":401, \"message\": \"Invalid API key. Please see https://openweathermap.org/faq#error401 for more info.\"}\n"
     ]
    }
   ],
   "source": [
    "import requests\n",
    "\n",
    "API_KEY = \"TU_API_KEY\"  # reemplázala con tu clave real\n",
    "city = \"Bogota\"\n",
    "\n",
    "url = f\"https://api.openweathermap.org/data/2.5/weather?q={city}&appid={API_KEY}&units=metric\"\n",
    "\n",
    "response = requests.get(url)\n",
    "\n",
    "if response.status_code == 200:\n",
    "    data = response.json()\n",
    "    temp = data[\"main\"][\"temp\"]\n",
    "    print(f\"La temperatura actual en {city} es {temp} °C\")\n",
    "else:\n",
    "    print(\"Error en la petición:\", response.status_code, response.text)\n"
   ]
  }
 ],
 "metadata": {
  "kernelspec": {
   "display_name": "base",
   "language": "python",
   "name": "python3"
  },
  "language_info": {
   "codemirror_mode": {
    "name": "ipython",
    "version": 3
   },
   "file_extension": ".py",
   "mimetype": "text/x-python",
   "name": "python",
   "nbconvert_exporter": "python",
   "pygments_lexer": "ipython3",
   "version": "3.12.7"
  }
 },
 "nbformat": 4,
 "nbformat_minor": 5
}
