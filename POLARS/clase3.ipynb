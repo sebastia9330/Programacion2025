{
 "cells": [
  {
   "cell_type": "code",
   "execution_count": 37,
   "id": "4d497294",
   "metadata": {},
   "outputs": [],
   "source": [
    "import polars as pl"
   ]
  },
  {
   "cell_type": "code",
   "execution_count": 38,
   "id": "162d4530",
   "metadata": {},
   "outputs": [
    {
     "data": {
      "text/html": [
       "<div><style>\n",
       ".dataframe > thead > tr,\n",
       ".dataframe > tbody > tr {\n",
       "  text-align: right;\n",
       "  white-space: pre-wrap;\n",
       "}\n",
       "</style>\n",
       "<small>shape: (4, 2)</small><table border=\"1\" class=\"dataframe\"><thead><tr><th>compañia</th><th>valor</th></tr><tr><td>str</td><td>i64</td></tr></thead><tbody><tr><td>&quot;A&quot;</td><td>100</td></tr><tr><td>&quot;B&quot;</td><td>200</td></tr><tr><td>&quot;A&quot;</td><td>300</td></tr><tr><td>&quot;C&quot;</td><td>400</td></tr></tbody></table></div>"
      ],
      "text/plain": [
       "shape: (4, 2)\n",
       "┌──────────┬───────┐\n",
       "│ compañia ┆ valor │\n",
       "│ ---      ┆ ---   │\n",
       "│ str      ┆ i64   │\n",
       "╞══════════╪═══════╡\n",
       "│ A        ┆ 100   │\n",
       "│ B        ┆ 200   │\n",
       "│ A        ┆ 300   │\n",
       "│ C        ┆ 400   │\n",
       "└──────────┴───────┘"
      ]
     },
     "execution_count": 38,
     "metadata": {},
     "output_type": "execute_result"
    }
   ],
   "source": [
    "df = pl.DataFrame({\n",
    "    \"compañia\": [\"A\", \"B\", \"A\", \"C\"],\n",
    "    \"valor\": [100, 200, 300, 400]\n",
    "})\n",
    "df.head()"
   ]
  },
  {
   "cell_type": "code",
   "execution_count": 39,
   "id": "1b8943bb",
   "metadata": {},
   "outputs": [
    {
     "name": "stdout",
     "output_type": "stream",
     "text": [
      "['C', 'A', 'B']\n"
     ]
    }
   ],
   "source": [
    "cias = df[\"compañia\"].unique().to_list()\n",
    "print(cias)"
   ]
  },
  {
   "cell_type": "code",
   "execution_count": 40,
   "id": "7a8b33f6",
   "metadata": {},
   "outputs": [
    {
     "name": "stdout",
     "output_type": "stream",
     "text": [
      "C tiene 1 movimientos\n",
      "A tiene 2 movimientos\n",
      "B tiene 1 movimientos\n"
     ]
    }
   ],
   "source": [
    "for cia in cias:\n",
    "    subset = df.filter(pl.col(\"compañia\") == cia)\n",
    "    print(f\"{cia} tiene {subset.shape[0]} movimientos\")"
   ]
  },
  {
   "cell_type": "markdown",
   "id": "8f22947b",
   "metadata": {},
   "source": [
    "CARGA DIFERIDA"
   ]
  },
  {
   "cell_type": "code",
   "execution_count": 41,
   "id": "51366d5b",
   "metadata": {},
   "outputs": [
    {
     "name": "stdout",
     "output_type": "stream",
     "text": [
      "naive plan: (run LazyFrame.explain(optimized=True) to see the optimized plan)\n",
      "\n",
      "Csv SCAN [movimientos.csv] [id: 5694557392608]\n",
      "PROJECT */5 COLUMNS\n"
     ]
    }
   ],
   "source": [
    "lz_mov = pl.scan_csv(\"movimientos.csv\")\n",
    "print(lz_mov)"
   ]
  },
  {
   "cell_type": "markdown",
   "id": "8ff45ea7",
   "metadata": {},
   "source": [
    "SELECCION DE COLUMNAS AVANZADAS"
   ]
  },
  {
   "cell_type": "code",
   "execution_count": 42,
   "id": "c0352a20",
   "metadata": {},
   "outputs": [
    {
     "data": {
      "text/html": [
       "<div><style>\n",
       ".dataframe > thead > tr,\n",
       ".dataframe > tbody > tr {\n",
       "  text-align: right;\n",
       "  white-space: pre-wrap;\n",
       "}\n",
       "</style>\n",
       "<small>shape: (5, 2)</small><table border=\"1\" class=\"dataframe\"><thead><tr><th>NUM_ID_CIA</th><th>VALOR</th></tr><tr><td>i64</td><td>i64</td></tr></thead><tbody><tr><td>1</td><td>250000</td></tr><tr><td>1</td><td>180000</td></tr><tr><td>2</td><td>320000</td></tr><tr><td>2</td><td>150000</td></tr><tr><td>1</td><td>500000</td></tr></tbody></table></div>"
      ],
      "text/plain": [
       "shape: (5, 2)\n",
       "┌────────────┬────────┐\n",
       "│ NUM_ID_CIA ┆ VALOR  │\n",
       "│ ---        ┆ ---    │\n",
       "│ i64        ┆ i64    │\n",
       "╞════════════╪════════╡\n",
       "│ 1          ┆ 250000 │\n",
       "│ 1          ┆ 180000 │\n",
       "│ 2          ┆ 320000 │\n",
       "│ 2          ┆ 150000 │\n",
       "│ 1          ┆ 500000 │\n",
       "└────────────┴────────┘"
      ]
     },
     "execution_count": 42,
     "metadata": {},
     "output_type": "execute_result"
    }
   ],
   "source": [
    "sel1 = lz_mov.select([\"NUM_ID_CIA\", \"VALOR\"])\n",
    "sel1.collect().head()"
   ]
  },
  {
   "cell_type": "markdown",
   "id": "45b85c7e",
   "metadata": {},
   "source": [
    "Seleccionar por patrón (columnas que contienen cierto texto)"
   ]
  },
  {
   "cell_type": "code",
   "execution_count": 43,
   "id": "0cfa02db",
   "metadata": {},
   "outputs": [
    {
     "data": {
      "text/html": [
       "<div><style>\n",
       ".dataframe > thead > tr,\n",
       ".dataframe > tbody > tr {\n",
       "  text-align: right;\n",
       "  white-space: pre-wrap;\n",
       "}\n",
       "</style>\n",
       "<small>shape: (5, 2)</small><table border=\"1\" class=\"dataframe\"><thead><tr><th>STR_CUENTA</th><th>STR_CENTRO_COSTO</th></tr><tr><td>i64</td><td>str</td></tr></thead><tbody><tr><td>510505</td><td>&quot;CC001&quot;</td></tr><tr><td>510506</td><td>&quot;CC002&quot;</td></tr><tr><td>410101</td><td>&quot;CC003&quot;</td></tr><tr><td>410102</td><td>&quot;CC004&quot;</td></tr><tr><td>510507</td><td>&quot;CC005&quot;</td></tr></tbody></table></div>"
      ],
      "text/plain": [
       "shape: (5, 2)\n",
       "┌────────────┬──────────────────┐\n",
       "│ STR_CUENTA ┆ STR_CENTRO_COSTO │\n",
       "│ ---        ┆ ---              │\n",
       "│ i64        ┆ str              │\n",
       "╞════════════╪══════════════════╡\n",
       "│ 510505     ┆ CC001            │\n",
       "│ 510506     ┆ CC002            │\n",
       "│ 410101     ┆ CC003            │\n",
       "│ 410102     ┆ CC004            │\n",
       "│ 510507     ┆ CC005            │\n",
       "└────────────┴──────────────────┘"
      ]
     },
     "execution_count": 43,
     "metadata": {},
     "output_type": "execute_result"
    }
   ],
   "source": [
    "sel2 = lz_mov.select(pl.col(\"^STR_.*$\")) #EMPIEZA CON STR\n",
    "sel2.collect().head()"
   ]
  },
  {
   "cell_type": "markdown",
   "id": "b26ec75c",
   "metadata": {},
   "source": [
    "Seleccionar y crear columnas al mismo tiempo"
   ]
  },
  {
   "cell_type": "code",
   "execution_count": 44,
   "id": "e05439e8",
   "metadata": {},
   "outputs": [
    {
     "data": {
      "text/html": [
       "<div><style>\n",
       ".dataframe > thead > tr,\n",
       ".dataframe > tbody > tr {\n",
       "  text-align: right;\n",
       "  white-space: pre-wrap;\n",
       "}\n",
       "</style>\n",
       "<small>shape: (5, 2)</small><table border=\"1\" class=\"dataframe\"><thead><tr><th>NUM_ID_CIA</th><th>valor_en_miles</th></tr><tr><td>i64</td><td>f64</td></tr></thead><tbody><tr><td>1</td><td>250.0</td></tr><tr><td>1</td><td>180.0</td></tr><tr><td>2</td><td>320.0</td></tr><tr><td>2</td><td>150.0</td></tr><tr><td>1</td><td>500.0</td></tr></tbody></table></div>"
      ],
      "text/plain": [
       "shape: (5, 2)\n",
       "┌────────────┬────────────────┐\n",
       "│ NUM_ID_CIA ┆ valor_en_miles │\n",
       "│ ---        ┆ ---            │\n",
       "│ i64        ┆ f64            │\n",
       "╞════════════╪════════════════╡\n",
       "│ 1          ┆ 250.0          │\n",
       "│ 1          ┆ 180.0          │\n",
       "│ 2          ┆ 320.0          │\n",
       "│ 2          ┆ 150.0          │\n",
       "│ 1          ┆ 500.0          │\n",
       "└────────────┴────────────────┘"
      ]
     },
     "execution_count": 44,
     "metadata": {},
     "output_type": "execute_result"
    }
   ],
   "source": [
    "sel3 = lz_mov.select([\n",
    "    pl.col(\"NUM_ID_CIA\"),\n",
    "    (pl.col(\"VALOR\") / 1000).alias(\"valor_en_miles\")\n",
    "])\n",
    "sel3.collect().head()"
   ]
  },
  {
   "cell_type": "markdown",
   "id": "c8cbf452",
   "metadata": {},
   "source": [
    "4️⃣ **Filtrado con múltiples condiciones**"
   ]
  },
  {
   "cell_type": "markdown",
   "id": "f1734f39",
   "metadata": {},
   "source": [
    "AND (&)"
   ]
  },
  {
   "cell_type": "code",
   "execution_count": 45,
   "id": "8de0f158",
   "metadata": {},
   "outputs": [
    {
     "data": {
      "text/html": [
       "<div><style>\n",
       ".dataframe > thead > tr,\n",
       ".dataframe > tbody > tr {\n",
       "  text-align: right;\n",
       "  white-space: pre-wrap;\n",
       "}\n",
       "</style>\n",
       "<small>shape: (1, 5)</small><table border=\"1\" class=\"dataframe\"><thead><tr><th>NUM_ID_CIA</th><th>STR_CUENTA</th><th>STR_CENTRO_COSTO</th><th>VALOR</th><th>CIUDAD</th></tr><tr><td>i64</td><td>i64</td><td>str</td><td>i64</td><td>str</td></tr></thead><tbody><tr><td>2</td><td>410102</td><td>&quot;CC004&quot;</td><td>150000</td><td>&quot;CALI&quot;</td></tr></tbody></table></div>"
      ],
      "text/plain": [
       "shape: (1, 5)\n",
       "┌────────────┬────────────┬──────────────────┬────────┬────────┐\n",
       "│ NUM_ID_CIA ┆ STR_CUENTA ┆ STR_CENTRO_COSTO ┆ VALOR  ┆ CIUDAD │\n",
       "│ ---        ┆ ---        ┆ ---              ┆ ---    ┆ ---    │\n",
       "│ i64        ┆ i64        ┆ str              ┆ i64    ┆ str    │\n",
       "╞════════════╪════════════╪══════════════════╪════════╪════════╡\n",
       "│ 2          ┆ 410102     ┆ CC004            ┆ 150000 ┆ CALI   │\n",
       "└────────────┴────────────┴──────────────────┴────────┴────────┘"
      ]
     },
     "execution_count": 45,
     "metadata": {},
     "output_type": "execute_result"
    }
   ],
   "source": [
    "filtro_and = lz_mov.filter(\n",
    "    (pl.col(\"VALOR\") < 200000) & (pl.col(\"CIUDAD\") == \"CALI\")\n",
    ")\n",
    "filtro_and.collect().head()"
   ]
  },
  {
   "cell_type": "markdown",
   "id": "9666e4b3",
   "metadata": {},
   "source": [
    "OR (|)"
   ]
  },
  {
   "cell_type": "code",
   "execution_count": 46,
   "id": "37dbe8fa",
   "metadata": {},
   "outputs": [
    {
     "data": {
      "text/html": [
       "<div><style>\n",
       ".dataframe > thead > tr,\n",
       ".dataframe > tbody > tr {\n",
       "  text-align: right;\n",
       "  white-space: pre-wrap;\n",
       "}\n",
       "</style>\n",
       "<small>shape: (0, 5)</small><table border=\"1\" class=\"dataframe\"><thead><tr><th>NUM_ID_CIA</th><th>STR_CUENTA</th><th>STR_CENTRO_COSTO</th><th>VALOR</th><th>CIUDAD</th></tr><tr><td>i64</td><td>i64</td><td>str</td><td>i64</td><td>str</td></tr></thead><tbody></tbody></table></div>"
      ],
      "text/plain": [
       "shape: (0, 5)\n",
       "┌────────────┬────────────┬──────────────────┬───────┬────────┐\n",
       "│ NUM_ID_CIA ┆ STR_CUENTA ┆ STR_CENTRO_COSTO ┆ VALOR ┆ CIUDAD │\n",
       "│ ---        ┆ ---        ┆ ---              ┆ ---   ┆ ---    │\n",
       "│ i64        ┆ i64        ┆ str              ┆ i64   ┆ str    │\n",
       "╞════════════╪════════════╪══════════════════╪═══════╪════════╡\n",
       "└────────────┴────────────┴──────────────────┴───────┴────────┘"
      ]
     },
     "execution_count": 46,
     "metadata": {},
     "output_type": "execute_result"
    }
   ],
   "source": [
    "filtro_or = lz_mov.filter(\n",
    "    (pl.col(\"CIUDAD\") == \"CLAI\") | (pl.col(\"CIUDAD\") == \"BOGOTA\")\n",
    ")\n",
    "filtro_or.collect().head()"
   ]
  },
  {
   "cell_type": "markdown",
   "id": "94bb82b6",
   "metadata": {},
   "source": [
    "NOT (~)"
   ]
  },
  {
   "cell_type": "code",
   "execution_count": 47,
   "id": "11813d8a",
   "metadata": {},
   "outputs": [
    {
     "data": {
      "text/html": [
       "<div><style>\n",
       ".dataframe > thead > tr,\n",
       ".dataframe > tbody > tr {\n",
       "  text-align: right;\n",
       "  white-space: pre-wrap;\n",
       "}\n",
       "</style>\n",
       "<small>shape: (2, 5)</small><table border=\"1\" class=\"dataframe\"><thead><tr><th>NUM_ID_CIA</th><th>STR_CUENTA</th><th>STR_CENTRO_COSTO</th><th>VALOR</th><th>CIUDAD</th></tr><tr><td>i64</td><td>i64</td><td>str</td><td>i64</td><td>str</td></tr></thead><tbody><tr><td>1</td><td>510506</td><td>&quot;CC002&quot;</td><td>180000</td><td>&quot;MEDELLÍN&quot;</td></tr><tr><td>2</td><td>410101</td><td>&quot;CC003&quot;</td><td>320000</td><td>&quot;BOGOTÁ&quot;</td></tr></tbody></table></div>"
      ],
      "text/plain": [
       "shape: (2, 5)\n",
       "┌────────────┬────────────┬──────────────────┬────────┬──────────┐\n",
       "│ NUM_ID_CIA ┆ STR_CUENTA ┆ STR_CENTRO_COSTO ┆ VALOR  ┆ CIUDAD   │\n",
       "│ ---        ┆ ---        ┆ ---              ┆ ---    ┆ ---      │\n",
       "│ i64        ┆ i64        ┆ str              ┆ i64    ┆ str      │\n",
       "╞════════════╪════════════╪══════════════════╪════════╪══════════╡\n",
       "│ 1          ┆ 510506     ┆ CC002            ┆ 180000 ┆ MEDELLÍN │\n",
       "│ 2          ┆ 410101     ┆ CC003            ┆ 320000 ┆ BOGOTÁ   │\n",
       "└────────────┴────────────┴──────────────────┴────────┴──────────┘"
      ]
     },
     "execution_count": 47,
     "metadata": {},
     "output_type": "execute_result"
    }
   ],
   "source": [
    "filtro_not = lz_mov.filter(\n",
    "    ~(pl.col(\"CIUDAD\") == \"CALI\")\n",
    ")\n",
    "filtro_not.collect().head()"
   ]
  },
  {
   "cell_type": "markdown",
   "id": "470f667e",
   "metadata": {},
   "source": [
    "5️⃣ **Filtrado con funciones y expresiones**"
   ]
  },
  {
   "cell_type": "code",
   "execution_count": 48,
   "id": "046fe8c2",
   "metadata": {},
   "outputs": [
    {
     "data": {
      "text/html": [
       "<div><style>\n",
       ".dataframe > thead > tr,\n",
       ".dataframe > tbody > tr {\n",
       "  text-align: right;\n",
       "  white-space: pre-wrap;\n",
       "}\n",
       "</style>\n",
       "<small>shape: (4, 5)</small><table border=\"1\" class=\"dataframe\"><thead><tr><th>NUM_ID_CIA</th><th>STR_CUENTA</th><th>STR_CENTRO_COSTO</th><th>VALOR</th><th>CIUDAD</th></tr><tr><td>i64</td><td>i64</td><td>str</td><td>i64</td><td>str</td></tr></thead><tbody><tr><td>1</td><td>510505</td><td>&quot;CC001&quot;</td><td>250000</td><td>&quot;CALI&quot;</td></tr><tr><td>1</td><td>510506</td><td>&quot;CC002&quot;</td><td>180000</td><td>&quot;MEDELLÍN&quot;</td></tr><tr><td>2</td><td>410102</td><td>&quot;CC004&quot;</td><td>150000</td><td>&quot;CALI&quot;</td></tr><tr><td>1</td><td>510507</td><td>&quot;CC005&quot;</td><td>500000</td><td>&quot;CALI&quot;</td></tr></tbody></table></div>"
      ],
      "text/plain": [
       "shape: (4, 5)\n",
       "┌────────────┬────────────┬──────────────────┬────────┬──────────┐\n",
       "│ NUM_ID_CIA ┆ STR_CUENTA ┆ STR_CENTRO_COSTO ┆ VALOR  ┆ CIUDAD   │\n",
       "│ ---        ┆ ---        ┆ ---              ┆ ---    ┆ ---      │\n",
       "│ i64        ┆ i64        ┆ str              ┆ i64    ┆ str      │\n",
       "╞════════════╪════════════╪══════════════════╪════════╪══════════╡\n",
       "│ 1          ┆ 510505     ┆ CC001            ┆ 250000 ┆ CALI     │\n",
       "│ 1          ┆ 510506     ┆ CC002            ┆ 180000 ┆ MEDELLÍN │\n",
       "│ 2          ┆ 410102     ┆ CC004            ┆ 150000 ┆ CALI     │\n",
       "│ 1          ┆ 510507     ┆ CC005            ┆ 500000 ┆ CALI     │\n",
       "└────────────┴────────────┴──────────────────┴────────┴──────────┘"
      ]
     },
     "execution_count": 48,
     "metadata": {},
     "output_type": "execute_result"
    }
   ],
   "source": [
    "ciudades = [\"CALI\", \"MEDELLÍN\"]\n",
    "filtro_in = lz_mov.filter(\n",
    "    (pl.col(\"CIUDAD\").is_in(ciudades))\n",
    ")\n",
    "filtro_in.collect().head()"
   ]
  },
  {
   "cell_type": "markdown",
   "id": "22471573",
   "metadata": {},
   "source": [
    "Filtrar por longitud de texto"
   ]
  },
  {
   "cell_type": "code",
   "execution_count": 50,
   "id": "53f8dc0d",
   "metadata": {},
   "outputs": [
    {
     "name": "stdout",
     "output_type": "stream",
     "text": [
      "shape: (5, 5)\n",
      "┌────────────┬────────────┬──────────────────┬────────┬──────────┐\n",
      "│ NUM_ID_CIA ┆ STR_CUENTA ┆ STR_CENTRO_COSTO ┆ VALOR  ┆ CIUDAD   │\n",
      "│ ---        ┆ ---        ┆ ---              ┆ ---    ┆ ---      │\n",
      "│ i64        ┆ str        ┆ str              ┆ i64    ┆ str      │\n",
      "╞════════════╪════════════╪══════════════════╪════════╪══════════╡\n",
      "│ 1          ┆ 510505     ┆ CC001            ┆ 250000 ┆ CALI     │\n",
      "│ 1          ┆ 510506     ┆ CC002            ┆ 180000 ┆ MEDELLÍN │\n",
      "│ 2          ┆ 410101     ┆ CC003            ┆ 320000 ┆ BOGOTÁ   │\n",
      "│ 2          ┆ 410102     ┆ CC004            ┆ 150000 ┆ CALI     │\n",
      "│ 1          ┆ 510507     ┆ CC005            ┆ 500000 ┆ CALI     │\n",
      "└────────────┴────────────┴──────────────────┴────────┴──────────┘\n"
     ]
    }
   ],
   "source": [
    "filtro_len = lz_mov.with_columns(\n",
    "    pl.col(\"STR_CUENTA\").cast(pl.Utf8)\n",
    ").filter(\n",
    "    pl.col(\"STR_CUENTA\").str.len_chars() == 6\n",
    ")\n",
    "print(filtro_len.collect())"
   ]
  },
  {
   "cell_type": "markdown",
   "id": "e294584a",
   "metadata": {},
   "source": [
    "6️⃣ **Selección dinámica de columnas**"
   ]
  },
  {
   "cell_type": "code",
   "execution_count": 51,
   "id": "48099d5a",
   "metadata": {},
   "outputs": [
    {
     "name": "stderr",
     "output_type": "stream",
     "text": [
      "C:\\Users\\Nelson.Daza\\AppData\\Local\\Temp\\ipykernel_8976\\3792018676.py:1: DeprecationWarning: `NUMERIC_DTYPES` was deprecated in version 1.0.0. Define your own data type groups or use the `polars.selectors` module for selecting columns of a certain data type.\n",
      "  solo_numericas = lz_mov.select(pl.col(pl.NUMERIC_DTYPES))\n"
     ]
    },
    {
     "data": {
      "text/html": [
       "<div><style>\n",
       ".dataframe > thead > tr,\n",
       ".dataframe > tbody > tr {\n",
       "  text-align: right;\n",
       "  white-space: pre-wrap;\n",
       "}\n",
       "</style>\n",
       "<small>shape: (5, 3)</small><table border=\"1\" class=\"dataframe\"><thead><tr><th>NUM_ID_CIA</th><th>STR_CUENTA</th><th>VALOR</th></tr><tr><td>i64</td><td>i64</td><td>i64</td></tr></thead><tbody><tr><td>1</td><td>510505</td><td>250000</td></tr><tr><td>1</td><td>510506</td><td>180000</td></tr><tr><td>2</td><td>410101</td><td>320000</td></tr><tr><td>2</td><td>410102</td><td>150000</td></tr><tr><td>1</td><td>510507</td><td>500000</td></tr></tbody></table></div>"
      ],
      "text/plain": [
       "shape: (5, 3)\n",
       "┌────────────┬────────────┬────────┐\n",
       "│ NUM_ID_CIA ┆ STR_CUENTA ┆ VALOR  │\n",
       "│ ---        ┆ ---        ┆ ---    │\n",
       "│ i64        ┆ i64        ┆ i64    │\n",
       "╞════════════╪════════════╪════════╡\n",
       "│ 1          ┆ 510505     ┆ 250000 │\n",
       "│ 1          ┆ 510506     ┆ 180000 │\n",
       "│ 2          ┆ 410101     ┆ 320000 │\n",
       "│ 2          ┆ 410102     ┆ 150000 │\n",
       "│ 1          ┆ 510507     ┆ 500000 │\n",
       "└────────────┴────────────┴────────┘"
      ]
     },
     "execution_count": 51,
     "metadata": {},
     "output_type": "execute_result"
    }
   ],
   "source": [
    "solo_numericas = lz_mov.select(pl.col(pl.NUMERIC_DTYPES))\n",
    "solo_numericas.collect().head()"
   ]
  },
  {
   "cell_type": "markdown",
   "id": "5f9ab067",
   "metadata": {},
   "source": [
    "SELECCIONAR TODAD LAS COLUMNAS MENOS UNA"
   ]
  },
  {
   "cell_type": "code",
   "execution_count": 52,
   "id": "73809b00",
   "metadata": {},
   "outputs": [
    {
     "data": {
      "text/html": [
       "<div><style>\n",
       ".dataframe > thead > tr,\n",
       ".dataframe > tbody > tr {\n",
       "  text-align: right;\n",
       "  white-space: pre-wrap;\n",
       "}\n",
       "</style>\n",
       "<small>shape: (5, 4)</small><table border=\"1\" class=\"dataframe\"><thead><tr><th>NUM_ID_CIA</th><th>STR_CUENTA</th><th>VALOR</th><th>CIUDAD</th></tr><tr><td>i64</td><td>i64</td><td>i64</td><td>str</td></tr></thead><tbody><tr><td>1</td><td>510505</td><td>250000</td><td>&quot;CALI&quot;</td></tr><tr><td>1</td><td>510506</td><td>180000</td><td>&quot;MEDELLÍN&quot;</td></tr><tr><td>2</td><td>410101</td><td>320000</td><td>&quot;BOGOTÁ&quot;</td></tr><tr><td>2</td><td>410102</td><td>150000</td><td>&quot;CALI&quot;</td></tr><tr><td>1</td><td>510507</td><td>500000</td><td>&quot;CALI&quot;</td></tr></tbody></table></div>"
      ],
      "text/plain": [
       "shape: (5, 4)\n",
       "┌────────────┬────────────┬────────┬──────────┐\n",
       "│ NUM_ID_CIA ┆ STR_CUENTA ┆ VALOR  ┆ CIUDAD   │\n",
       "│ ---        ┆ ---        ┆ ---    ┆ ---      │\n",
       "│ i64        ┆ i64        ┆ i64    ┆ str      │\n",
       "╞════════════╪════════════╪════════╪══════════╡\n",
       "│ 1          ┆ 510505     ┆ 250000 ┆ CALI     │\n",
       "│ 1          ┆ 510506     ┆ 180000 ┆ MEDELLÍN │\n",
       "│ 2          ┆ 410101     ┆ 320000 ┆ BOGOTÁ   │\n",
       "│ 2          ┆ 410102     ┆ 150000 ┆ CALI     │\n",
       "│ 1          ┆ 510507     ┆ 500000 ┆ CALI     │\n",
       "└────────────┴────────────┴────────┴──────────┘"
      ]
     },
     "execution_count": 52,
     "metadata": {},
     "output_type": "execute_result"
    }
   ],
   "source": [
    "sin_centro = lz_mov.select(pl.all().exclude(\"STR_CENTRO_COSTO\"))\n",
    "sin_centro.collect().head()"
   ]
  }
 ],
 "metadata": {
  "kernelspec": {
   "display_name": "base",
   "language": "python",
   "name": "python3"
  },
  "language_info": {
   "codemirror_mode": {
    "name": "ipython",
    "version": 3
   },
   "file_extension": ".py",
   "mimetype": "text/x-python",
   "name": "python",
   "nbconvert_exporter": "python",
   "pygments_lexer": "ipython3",
   "version": "3.12.7"
  }
 },
 "nbformat": 4,
 "nbformat_minor": 5
}
